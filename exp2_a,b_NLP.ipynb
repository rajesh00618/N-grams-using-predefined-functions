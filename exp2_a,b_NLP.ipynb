{
  "nbformat": 4,
  "nbformat_minor": 0,
  "metadata": {
    "colab": {
      "provenance": []
    },
    "kernelspec": {
      "name": "python3",
      "display_name": "Python 3"
    },
    "language_info": {
      "name": "python"
    }
  },
  "cells": [
    {
      "cell_type": "markdown",
      "source": [
        "**Uni-grams, Bi-grams, Tri-grams, N-grams,\n",
        "                          by using Pre-Defined functions**"
      ],
      "metadata": {
        "id": "zVVaUWLGrvuh"
      }
    },
    {
      "cell_type": "code",
      "execution_count": null,
      "metadata": {
        "colab": {
          "base_uri": "https://localhost:8080/"
        },
        "id": "gmX8J8TmjiRE",
        "outputId": "b46c00f8-24de-4c09-e192-c814b8216c4b"
      },
      "outputs": [
        {
          "output_type": "stream",
          "name": "stdout",
          "text": [
            "Unigrams: [('Artificial',), ('intelligence',), ('is',), ('transforming',), ('industries',), ('across',), ('the',), ('world,',), ('from',), ('healthcare',), ('and',), ('finance',), ('to',), ('entertainment',), ('and',), ('manufacturing.',), ('It',), ('is',), ('enabling',), ('machines',), ('to',), ('perform',), ('tasks',), ('that',), ('were',), ('once',), ('thought',), ('to',), ('be',), ('exclusive',), ('to',), ('humans,',), ('such',), ('as',), ('diagnosing',), ('diseases,',), ('analyzing',), ('financial',), ('trends,',), ('and',), ('even',), ('creating',), ('art.',), ('The',), ('rise',), ('of',), ('AI',), ('has',), ('sparked',), ('both',), ('excitement',), ('and',), ('concern.',), ('On',), ('one',), ('hand,',), ('it',), ('has',), ('the',), ('potential',), ('to',), ('improve',), ('efficiency',), ('and',), ('solve',), ('complex',), ('problems,',), ('but',), ('on',), ('the',), ('other',), ('hand,',), ('it',), ('raises',), ('ethical',), ('questions',), ('about',), ('privacy,',), ('job',), ('displacement,',), ('and',), ('the',), ('future',), ('of',), ('human',), ('work.',), ('As',), ('AI',), ('continues',), ('to',), ('evolve,',), ('governments,',), ('businesses,',), ('and',), ('individuals',), ('must',), ('carefully',), ('consider',), ('how',), ('to',), ('harness',), ('its',), ('benefits',), ('while',), ('mitigating',), ('the',), ('risks.',)]\n",
            "Bigrams: [('Artificial', 'intelligence'), ('intelligence', 'is'), ('is', 'transforming'), ('transforming', 'industries'), ('industries', 'across'), ('across', 'the'), ('the', 'world,'), ('world,', 'from'), ('from', 'healthcare'), ('healthcare', 'and'), ('and', 'finance'), ('finance', 'to'), ('to', 'entertainment'), ('entertainment', 'and'), ('and', 'manufacturing.'), ('manufacturing.', 'It'), ('It', 'is'), ('is', 'enabling'), ('enabling', 'machines'), ('machines', 'to'), ('to', 'perform'), ('perform', 'tasks'), ('tasks', 'that'), ('that', 'were'), ('were', 'once'), ('once', 'thought'), ('thought', 'to'), ('to', 'be'), ('be', 'exclusive'), ('exclusive', 'to'), ('to', 'humans,'), ('humans,', 'such'), ('such', 'as'), ('as', 'diagnosing'), ('diagnosing', 'diseases,'), ('diseases,', 'analyzing'), ('analyzing', 'financial'), ('financial', 'trends,'), ('trends,', 'and'), ('and', 'even'), ('even', 'creating'), ('creating', 'art.'), ('art.', 'The'), ('The', 'rise'), ('rise', 'of'), ('of', 'AI'), ('AI', 'has'), ('has', 'sparked'), ('sparked', 'both'), ('both', 'excitement'), ('excitement', 'and'), ('and', 'concern.'), ('concern.', 'On'), ('On', 'one'), ('one', 'hand,'), ('hand,', 'it'), ('it', 'has'), ('has', 'the'), ('the', 'potential'), ('potential', 'to'), ('to', 'improve'), ('improve', 'efficiency'), ('efficiency', 'and'), ('and', 'solve'), ('solve', 'complex'), ('complex', 'problems,'), ('problems,', 'but'), ('but', 'on'), ('on', 'the'), ('the', 'other'), ('other', 'hand,'), ('hand,', 'it'), ('it', 'raises'), ('raises', 'ethical'), ('ethical', 'questions'), ('questions', 'about'), ('about', 'privacy,'), ('privacy,', 'job'), ('job', 'displacement,'), ('displacement,', 'and'), ('and', 'the'), ('the', 'future'), ('future', 'of'), ('of', 'human'), ('human', 'work.'), ('work.', 'As'), ('As', 'AI'), ('AI', 'continues'), ('continues', 'to'), ('to', 'evolve,'), ('evolve,', 'governments,'), ('governments,', 'businesses,'), ('businesses,', 'and'), ('and', 'individuals'), ('individuals', 'must'), ('must', 'carefully'), ('carefully', 'consider'), ('consider', 'how'), ('how', 'to'), ('to', 'harness'), ('harness', 'its'), ('its', 'benefits'), ('benefits', 'while'), ('while', 'mitigating'), ('mitigating', 'the'), ('the', 'risks.')]\n",
            "Trigrams: [('Artificial', 'intelligence', 'is'), ('intelligence', 'is', 'transforming'), ('is', 'transforming', 'industries'), ('transforming', 'industries', 'across'), ('industries', 'across', 'the'), ('across', 'the', 'world,'), ('the', 'world,', 'from'), ('world,', 'from', 'healthcare'), ('from', 'healthcare', 'and'), ('healthcare', 'and', 'finance'), ('and', 'finance', 'to'), ('finance', 'to', 'entertainment'), ('to', 'entertainment', 'and'), ('entertainment', 'and', 'manufacturing.'), ('and', 'manufacturing.', 'It'), ('manufacturing.', 'It', 'is'), ('It', 'is', 'enabling'), ('is', 'enabling', 'machines'), ('enabling', 'machines', 'to'), ('machines', 'to', 'perform'), ('to', 'perform', 'tasks'), ('perform', 'tasks', 'that'), ('tasks', 'that', 'were'), ('that', 'were', 'once'), ('were', 'once', 'thought'), ('once', 'thought', 'to'), ('thought', 'to', 'be'), ('to', 'be', 'exclusive'), ('be', 'exclusive', 'to'), ('exclusive', 'to', 'humans,'), ('to', 'humans,', 'such'), ('humans,', 'such', 'as'), ('such', 'as', 'diagnosing'), ('as', 'diagnosing', 'diseases,'), ('diagnosing', 'diseases,', 'analyzing'), ('diseases,', 'analyzing', 'financial'), ('analyzing', 'financial', 'trends,'), ('financial', 'trends,', 'and'), ('trends,', 'and', 'even'), ('and', 'even', 'creating'), ('even', 'creating', 'art.'), ('creating', 'art.', 'The'), ('art.', 'The', 'rise'), ('The', 'rise', 'of'), ('rise', 'of', 'AI'), ('of', 'AI', 'has'), ('AI', 'has', 'sparked'), ('has', 'sparked', 'both'), ('sparked', 'both', 'excitement'), ('both', 'excitement', 'and'), ('excitement', 'and', 'concern.'), ('and', 'concern.', 'On'), ('concern.', 'On', 'one'), ('On', 'one', 'hand,'), ('one', 'hand,', 'it'), ('hand,', 'it', 'has'), ('it', 'has', 'the'), ('has', 'the', 'potential'), ('the', 'potential', 'to'), ('potential', 'to', 'improve'), ('to', 'improve', 'efficiency'), ('improve', 'efficiency', 'and'), ('efficiency', 'and', 'solve'), ('and', 'solve', 'complex'), ('solve', 'complex', 'problems,'), ('complex', 'problems,', 'but'), ('problems,', 'but', 'on'), ('but', 'on', 'the'), ('on', 'the', 'other'), ('the', 'other', 'hand,'), ('other', 'hand,', 'it'), ('hand,', 'it', 'raises'), ('it', 'raises', 'ethical'), ('raises', 'ethical', 'questions'), ('ethical', 'questions', 'about'), ('questions', 'about', 'privacy,'), ('about', 'privacy,', 'job'), ('privacy,', 'job', 'displacement,'), ('job', 'displacement,', 'and'), ('displacement,', 'and', 'the'), ('and', 'the', 'future'), ('the', 'future', 'of'), ('future', 'of', 'human'), ('of', 'human', 'work.'), ('human', 'work.', 'As'), ('work.', 'As', 'AI'), ('As', 'AI', 'continues'), ('AI', 'continues', 'to'), ('continues', 'to', 'evolve,'), ('to', 'evolve,', 'governments,'), ('evolve,', 'governments,', 'businesses,'), ('governments,', 'businesses,', 'and'), ('businesses,', 'and', 'individuals'), ('and', 'individuals', 'must'), ('individuals', 'must', 'carefully'), ('must', 'carefully', 'consider'), ('carefully', 'consider', 'how'), ('consider', 'how', 'to'), ('how', 'to', 'harness'), ('to', 'harness', 'its'), ('harness', 'its', 'benefits'), ('its', 'benefits', 'while'), ('benefits', 'while', 'mitigating'), ('while', 'mitigating', 'the'), ('mitigating', 'the', 'risks.')]\n"
          ]
        }
      ],
      "source": [
        "from nltk.util import ngrams\n",
        "text=\"\"\"Artificial intelligence is transforming industries across the world, from healthcare and finance to entertainment and manufacturing.\n",
        " It is enabling machines to perform tasks that were once thought to be exclusive to humans, such as diagnosing diseases, analyzing financial trends, and even creating art.\n",
        " The rise of AI has sparked both excitement and concern.\n",
        " On one hand, it has the potential to improve efficiency and solve complex problems, but on the other hand, it raises ethical questions about privacy, job displacement, and the future of human work.\n",
        " As AI continues to evolve, governments, businesses, and individuals must carefully consider how to harness its benefits while mitigating the risks.\n",
        "\n",
        "\"\"\"\n",
        "\n",
        "words=text.split()\n",
        "unigrams=ngrams(words,1)\n",
        "bigrams=ngrams(words,2)\n",
        "trigrams=ngrams(words,3)\n",
        "print(\"Unigrams:\",list(unigrams))\n",
        "print(\"Bigrams:\",list(bigrams))\n",
        "print(\"Trigrams:\",list(trigrams))"
      ]
    },
    {
      "cell_type": "markdown",
      "source": [
        "**Uni-grams, Bi-grams, Tri-grams, N-grams, by using User-Defined functions**"
      ],
      "metadata": {
        "id": "oMWrpHTJusSw"
      }
    },
    {
      "cell_type": "code",
      "source": [
        "def get_unigrams(words):\n",
        "    return [(words[i],) for i in range(len(words))]\n",
        "\n",
        "def get_bigrams(words):\n",
        "    return [(words[i], words[i+1]) for i in range(len(words)-1)]\n",
        "\n",
        "def get_trigrams(words):\n",
        "    return [(words[i], words[i+1], words[i+2]) for i in range(len(words)-2)]\n",
        "\n",
        "def get_ngrams(words, n):\n",
        "    return [tuple(words[i:i+n]) for i in range(len(words)-n+1)]\n",
        "\n",
        "print(\"Unigrams:\", get_unigrams(words))\n",
        "print(\"Bigrams:\", get_bigrams(words))\n",
        "print(\"Trigrams:\", get_trigrams(words))\n",
        "print(\"ngrams:\", get_ngrams(words, 5))\n"
      ],
      "metadata": {
        "colab": {
          "base_uri": "https://localhost:8080/"
        },
        "id": "kPZ9BWEwrcAi",
        "outputId": "dc0a3296-dcd7-4807-d5f7-bbb93751f742"
      },
      "execution_count": null,
      "outputs": [
        {
          "output_type": "stream",
          "name": "stdout",
          "text": [
            "Unigrams: [('Artificial',), ('intelligence',), ('is',), ('transforming',), ('industries',), ('across',), ('the',), ('world,',), ('from',), ('healthcare',), ('and',), ('finance',), ('to',), ('entertainment',), ('and',), ('manufacturing.',), ('It',), ('is',), ('enabling',), ('machines',), ('to',), ('perform',), ('tasks',), ('that',), ('were',), ('once',), ('thought',), ('to',), ('be',), ('exclusive',), ('to',), ('humans,',), ('such',), ('as',), ('diagnosing',), ('diseases,',), ('analyzing',), ('financial',), ('trends,',), ('and',), ('even',), ('creating',), ('art.',), ('The',), ('rise',), ('of',), ('AI',), ('has',), ('sparked',), ('both',), ('excitement',), ('and',), ('concern.',), ('On',), ('one',), ('hand,',), ('it',), ('has',), ('the',), ('potential',), ('to',), ('improve',), ('efficiency',), ('and',), ('solve',), ('complex',), ('problems,',), ('but',), ('on',), ('the',), ('other',), ('hand,',), ('it',), ('raises',), ('ethical',), ('questions',), ('about',), ('privacy,',), ('job',), ('displacement,',), ('and',), ('the',), ('future',), ('of',), ('human',), ('work.',), ('As',), ('AI',), ('continues',), ('to',), ('evolve,',), ('governments,',), ('businesses,',), ('and',), ('individuals',), ('must',), ('carefully',), ('consider',), ('how',), ('to',), ('harness',), ('its',), ('benefits',), ('while',), ('mitigating',), ('the',), ('risks.',)]\n",
            "Bigrams: [('Artificial', 'intelligence'), ('intelligence', 'is'), ('is', 'transforming'), ('transforming', 'industries'), ('industries', 'across'), ('across', 'the'), ('the', 'world,'), ('world,', 'from'), ('from', 'healthcare'), ('healthcare', 'and'), ('and', 'finance'), ('finance', 'to'), ('to', 'entertainment'), ('entertainment', 'and'), ('and', 'manufacturing.'), ('manufacturing.', 'It'), ('It', 'is'), ('is', 'enabling'), ('enabling', 'machines'), ('machines', 'to'), ('to', 'perform'), ('perform', 'tasks'), ('tasks', 'that'), ('that', 'were'), ('were', 'once'), ('once', 'thought'), ('thought', 'to'), ('to', 'be'), ('be', 'exclusive'), ('exclusive', 'to'), ('to', 'humans,'), ('humans,', 'such'), ('such', 'as'), ('as', 'diagnosing'), ('diagnosing', 'diseases,'), ('diseases,', 'analyzing'), ('analyzing', 'financial'), ('financial', 'trends,'), ('trends,', 'and'), ('and', 'even'), ('even', 'creating'), ('creating', 'art.'), ('art.', 'The'), ('The', 'rise'), ('rise', 'of'), ('of', 'AI'), ('AI', 'has'), ('has', 'sparked'), ('sparked', 'both'), ('both', 'excitement'), ('excitement', 'and'), ('and', 'concern.'), ('concern.', 'On'), ('On', 'one'), ('one', 'hand,'), ('hand,', 'it'), ('it', 'has'), ('has', 'the'), ('the', 'potential'), ('potential', 'to'), ('to', 'improve'), ('improve', 'efficiency'), ('efficiency', 'and'), ('and', 'solve'), ('solve', 'complex'), ('complex', 'problems,'), ('problems,', 'but'), ('but', 'on'), ('on', 'the'), ('the', 'other'), ('other', 'hand,'), ('hand,', 'it'), ('it', 'raises'), ('raises', 'ethical'), ('ethical', 'questions'), ('questions', 'about'), ('about', 'privacy,'), ('privacy,', 'job'), ('job', 'displacement,'), ('displacement,', 'and'), ('and', 'the'), ('the', 'future'), ('future', 'of'), ('of', 'human'), ('human', 'work.'), ('work.', 'As'), ('As', 'AI'), ('AI', 'continues'), ('continues', 'to'), ('to', 'evolve,'), ('evolve,', 'governments,'), ('governments,', 'businesses,'), ('businesses,', 'and'), ('and', 'individuals'), ('individuals', 'must'), ('must', 'carefully'), ('carefully', 'consider'), ('consider', 'how'), ('how', 'to'), ('to', 'harness'), ('harness', 'its'), ('its', 'benefits'), ('benefits', 'while'), ('while', 'mitigating'), ('mitigating', 'the'), ('the', 'risks.')]\n",
            "Trigrams: [('Artificial', 'intelligence', 'is'), ('intelligence', 'is', 'transforming'), ('is', 'transforming', 'industries'), ('transforming', 'industries', 'across'), ('industries', 'across', 'the'), ('across', 'the', 'world,'), ('the', 'world,', 'from'), ('world,', 'from', 'healthcare'), ('from', 'healthcare', 'and'), ('healthcare', 'and', 'finance'), ('and', 'finance', 'to'), ('finance', 'to', 'entertainment'), ('to', 'entertainment', 'and'), ('entertainment', 'and', 'manufacturing.'), ('and', 'manufacturing.', 'It'), ('manufacturing.', 'It', 'is'), ('It', 'is', 'enabling'), ('is', 'enabling', 'machines'), ('enabling', 'machines', 'to'), ('machines', 'to', 'perform'), ('to', 'perform', 'tasks'), ('perform', 'tasks', 'that'), ('tasks', 'that', 'were'), ('that', 'were', 'once'), ('were', 'once', 'thought'), ('once', 'thought', 'to'), ('thought', 'to', 'be'), ('to', 'be', 'exclusive'), ('be', 'exclusive', 'to'), ('exclusive', 'to', 'humans,'), ('to', 'humans,', 'such'), ('humans,', 'such', 'as'), ('such', 'as', 'diagnosing'), ('as', 'diagnosing', 'diseases,'), ('diagnosing', 'diseases,', 'analyzing'), ('diseases,', 'analyzing', 'financial'), ('analyzing', 'financial', 'trends,'), ('financial', 'trends,', 'and'), ('trends,', 'and', 'even'), ('and', 'even', 'creating'), ('even', 'creating', 'art.'), ('creating', 'art.', 'The'), ('art.', 'The', 'rise'), ('The', 'rise', 'of'), ('rise', 'of', 'AI'), ('of', 'AI', 'has'), ('AI', 'has', 'sparked'), ('has', 'sparked', 'both'), ('sparked', 'both', 'excitement'), ('both', 'excitement', 'and'), ('excitement', 'and', 'concern.'), ('and', 'concern.', 'On'), ('concern.', 'On', 'one'), ('On', 'one', 'hand,'), ('one', 'hand,', 'it'), ('hand,', 'it', 'has'), ('it', 'has', 'the'), ('has', 'the', 'potential'), ('the', 'potential', 'to'), ('potential', 'to', 'improve'), ('to', 'improve', 'efficiency'), ('improve', 'efficiency', 'and'), ('efficiency', 'and', 'solve'), ('and', 'solve', 'complex'), ('solve', 'complex', 'problems,'), ('complex', 'problems,', 'but'), ('problems,', 'but', 'on'), ('but', 'on', 'the'), ('on', 'the', 'other'), ('the', 'other', 'hand,'), ('other', 'hand,', 'it'), ('hand,', 'it', 'raises'), ('it', 'raises', 'ethical'), ('raises', 'ethical', 'questions'), ('ethical', 'questions', 'about'), ('questions', 'about', 'privacy,'), ('about', 'privacy,', 'job'), ('privacy,', 'job', 'displacement,'), ('job', 'displacement,', 'and'), ('displacement,', 'and', 'the'), ('and', 'the', 'future'), ('the', 'future', 'of'), ('future', 'of', 'human'), ('of', 'human', 'work.'), ('human', 'work.', 'As'), ('work.', 'As', 'AI'), ('As', 'AI', 'continues'), ('AI', 'continues', 'to'), ('continues', 'to', 'evolve,'), ('to', 'evolve,', 'governments,'), ('evolve,', 'governments,', 'businesses,'), ('governments,', 'businesses,', 'and'), ('businesses,', 'and', 'individuals'), ('and', 'individuals', 'must'), ('individuals', 'must', 'carefully'), ('must', 'carefully', 'consider'), ('carefully', 'consider', 'how'), ('consider', 'how', 'to'), ('how', 'to', 'harness'), ('to', 'harness', 'its'), ('harness', 'its', 'benefits'), ('its', 'benefits', 'while'), ('benefits', 'while', 'mitigating'), ('while', 'mitigating', 'the'), ('mitigating', 'the', 'risks.')]\n",
            "ngrams: [('Artificial', 'intelligence', 'is', 'transforming', 'industries'), ('intelligence', 'is', 'transforming', 'industries', 'across'), ('is', 'transforming', 'industries', 'across', 'the'), ('transforming', 'industries', 'across', 'the', 'world,'), ('industries', 'across', 'the', 'world,', 'from'), ('across', 'the', 'world,', 'from', 'healthcare'), ('the', 'world,', 'from', 'healthcare', 'and'), ('world,', 'from', 'healthcare', 'and', 'finance'), ('from', 'healthcare', 'and', 'finance', 'to'), ('healthcare', 'and', 'finance', 'to', 'entertainment'), ('and', 'finance', 'to', 'entertainment', 'and'), ('finance', 'to', 'entertainment', 'and', 'manufacturing.'), ('to', 'entertainment', 'and', 'manufacturing.', 'It'), ('entertainment', 'and', 'manufacturing.', 'It', 'is'), ('and', 'manufacturing.', 'It', 'is', 'enabling'), ('manufacturing.', 'It', 'is', 'enabling', 'machines'), ('It', 'is', 'enabling', 'machines', 'to'), ('is', 'enabling', 'machines', 'to', 'perform'), ('enabling', 'machines', 'to', 'perform', 'tasks'), ('machines', 'to', 'perform', 'tasks', 'that'), ('to', 'perform', 'tasks', 'that', 'were'), ('perform', 'tasks', 'that', 'were', 'once'), ('tasks', 'that', 'were', 'once', 'thought'), ('that', 'were', 'once', 'thought', 'to'), ('were', 'once', 'thought', 'to', 'be'), ('once', 'thought', 'to', 'be', 'exclusive'), ('thought', 'to', 'be', 'exclusive', 'to'), ('to', 'be', 'exclusive', 'to', 'humans,'), ('be', 'exclusive', 'to', 'humans,', 'such'), ('exclusive', 'to', 'humans,', 'such', 'as'), ('to', 'humans,', 'such', 'as', 'diagnosing'), ('humans,', 'such', 'as', 'diagnosing', 'diseases,'), ('such', 'as', 'diagnosing', 'diseases,', 'analyzing'), ('as', 'diagnosing', 'diseases,', 'analyzing', 'financial'), ('diagnosing', 'diseases,', 'analyzing', 'financial', 'trends,'), ('diseases,', 'analyzing', 'financial', 'trends,', 'and'), ('analyzing', 'financial', 'trends,', 'and', 'even'), ('financial', 'trends,', 'and', 'even', 'creating'), ('trends,', 'and', 'even', 'creating', 'art.'), ('and', 'even', 'creating', 'art.', 'The'), ('even', 'creating', 'art.', 'The', 'rise'), ('creating', 'art.', 'The', 'rise', 'of'), ('art.', 'The', 'rise', 'of', 'AI'), ('The', 'rise', 'of', 'AI', 'has'), ('rise', 'of', 'AI', 'has', 'sparked'), ('of', 'AI', 'has', 'sparked', 'both'), ('AI', 'has', 'sparked', 'both', 'excitement'), ('has', 'sparked', 'both', 'excitement', 'and'), ('sparked', 'both', 'excitement', 'and', 'concern.'), ('both', 'excitement', 'and', 'concern.', 'On'), ('excitement', 'and', 'concern.', 'On', 'one'), ('and', 'concern.', 'On', 'one', 'hand,'), ('concern.', 'On', 'one', 'hand,', 'it'), ('On', 'one', 'hand,', 'it', 'has'), ('one', 'hand,', 'it', 'has', 'the'), ('hand,', 'it', 'has', 'the', 'potential'), ('it', 'has', 'the', 'potential', 'to'), ('has', 'the', 'potential', 'to', 'improve'), ('the', 'potential', 'to', 'improve', 'efficiency'), ('potential', 'to', 'improve', 'efficiency', 'and'), ('to', 'improve', 'efficiency', 'and', 'solve'), ('improve', 'efficiency', 'and', 'solve', 'complex'), ('efficiency', 'and', 'solve', 'complex', 'problems,'), ('and', 'solve', 'complex', 'problems,', 'but'), ('solve', 'complex', 'problems,', 'but', 'on'), ('complex', 'problems,', 'but', 'on', 'the'), ('problems,', 'but', 'on', 'the', 'other'), ('but', 'on', 'the', 'other', 'hand,'), ('on', 'the', 'other', 'hand,', 'it'), ('the', 'other', 'hand,', 'it', 'raises'), ('other', 'hand,', 'it', 'raises', 'ethical'), ('hand,', 'it', 'raises', 'ethical', 'questions'), ('it', 'raises', 'ethical', 'questions', 'about'), ('raises', 'ethical', 'questions', 'about', 'privacy,'), ('ethical', 'questions', 'about', 'privacy,', 'job'), ('questions', 'about', 'privacy,', 'job', 'displacement,'), ('about', 'privacy,', 'job', 'displacement,', 'and'), ('privacy,', 'job', 'displacement,', 'and', 'the'), ('job', 'displacement,', 'and', 'the', 'future'), ('displacement,', 'and', 'the', 'future', 'of'), ('and', 'the', 'future', 'of', 'human'), ('the', 'future', 'of', 'human', 'work.'), ('future', 'of', 'human', 'work.', 'As'), ('of', 'human', 'work.', 'As', 'AI'), ('human', 'work.', 'As', 'AI', 'continues'), ('work.', 'As', 'AI', 'continues', 'to'), ('As', 'AI', 'continues', 'to', 'evolve,'), ('AI', 'continues', 'to', 'evolve,', 'governments,'), ('continues', 'to', 'evolve,', 'governments,', 'businesses,'), ('to', 'evolve,', 'governments,', 'businesses,', 'and'), ('evolve,', 'governments,', 'businesses,', 'and', 'individuals'), ('governments,', 'businesses,', 'and', 'individuals', 'must'), ('businesses,', 'and', 'individuals', 'must', 'carefully'), ('and', 'individuals', 'must', 'carefully', 'consider'), ('individuals', 'must', 'carefully', 'consider', 'how'), ('must', 'carefully', 'consider', 'how', 'to'), ('carefully', 'consider', 'how', 'to', 'harness'), ('consider', 'how', 'to', 'harness', 'its'), ('how', 'to', 'harness', 'its', 'benefits'), ('to', 'harness', 'its', 'benefits', 'while'), ('harness', 'its', 'benefits', 'while', 'mitigating'), ('its', 'benefits', 'while', 'mitigating', 'the'), ('benefits', 'while', 'mitigating', 'the', 'risks.')]\n"
          ]
        }
      ]
    },
    {
      "cell_type": "markdown",
      "source": [
        "**To calculate the highest probability of a word(w2) occurring after another word(w1).**"
      ],
      "metadata": {
        "id": "iyDHkZRx5YDF"
      }
    },
    {
      "cell_type": "code",
      "source": [
        "from collections import defaultdict\n",
        "\n",
        "def highest_probability(text):\n",
        "    words = text.split()\n",
        "    bigram_counts = defaultdict(lambda: defaultdict(int))\n",
        "    first_word_counts = defaultdict(int)\n",
        "\n",
        "    # Counting occurrences of bigrams and first words\n",
        "    for i in range(len(words)-1):\n",
        "        w1 = words[i]\n",
        "        w2 = words[i+1]\n",
        "        bigram_counts[w1][w2] += 1\n",
        "        first_word_counts[w1] += 1\n",
        "\n",
        "    # Calculate highest probability bigrams for each first word\n",
        "    result = {}\n",
        "    for w1 in bigram_counts:\n",
        "        max_prob = 0\n",
        "        best_w2 = None\n",
        "        for w2 in bigram_counts[w1]:\n",
        "            prob = bigram_counts[w1][w2] / first_word_counts[w1]\n",
        "            if prob > max_prob:\n",
        "                max_prob = prob\n",
        "                best_w2 = w2\n",
        "        result[w1] = (best_w2, max_prob)\n",
        "\n",
        "    return result\n",
        "\n",
        "# Example text to test the function\n",
        "text = \"this is a test text with some test words\"\n",
        "print(highest_probability(text))\n"
      ],
      "metadata": {
        "colab": {
          "base_uri": "https://localhost:8080/"
        },
        "id": "lXV8dDtFwby5",
        "outputId": "abbf32d0-3a6f-4277-a74f-09079f99b31a"
      },
      "execution_count": null,
      "outputs": [
        {
          "output_type": "stream",
          "name": "stdout",
          "text": [
            "{'this': ('is', 1.0), 'is': ('a', 1.0), 'a': ('test', 1.0), 'test': ('text', 0.5), 'text': ('with', 1.0), 'with': ('some', 1.0), 'some': ('test', 1.0)}\n"
          ]
        }
      ]
    }
  ]
}